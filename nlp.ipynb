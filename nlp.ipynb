{
 "cells": [
  {
   "cell_type": "code",
   "execution_count": 2,
   "metadata": {},
   "outputs": [
    {
     "name": "stderr",
     "output_type": "stream",
     "text": [
      "/home/jaime/Escritorio/AIR/entornos/NLP/lib/python3.10/site-packages/tqdm/auto.py:21: TqdmWarning: IProgress not found. Please update jupyter and ipywidgets. See https://ipywidgets.readthedocs.io/en/stable/user_install.html\n",
      "  from .autonotebook import tqdm as notebook_tqdm\n",
      "2024-10-30 09:18:15.453579: E external/local_xla/xla/stream_executor/cuda/cuda_fft.cc:477] Unable to register cuFFT factory: Attempting to register factory for plugin cuFFT when one has already been registered\n",
      "WARNING: All log messages before absl::InitializeLog() is called are written to STDERR\n",
      "E0000 00:00:1730276295.609151   17087 cuda_dnn.cc:8310] Unable to register cuDNN factory: Attempting to register factory for plugin cuDNN when one has already been registered\n",
      "E0000 00:00:1730276295.652446   17087 cuda_blas.cc:1418] Unable to register cuBLAS factory: Attempting to register factory for plugin cuBLAS when one has already been registered\n",
      "2024-10-30 09:18:16.034945: I tensorflow/core/platform/cpu_feature_guard.cc:210] This TensorFlow binary is optimized to use available CPU instructions in performance-critical operations.\n",
      "To enable the following instructions: AVX2 FMA, in other operations, rebuild TensorFlow with the appropriate compiler flags.\n"
     ]
    }
   ],
   "source": [
    "from transformers import T5Tokenizer, T5ForConditionalGeneration\n",
    "from transformers import BartForConditionalGeneration, AutoTokenizer,AutoModelForSeq2SeqLM,BertTokenizerFast\n",
    "import torch\n",
    "from transformers import pipeline\n",
    "import pandas as pd \n",
    "import numpy as np\n",
    "import pyarrow.parquet as pq\n",
    "from torch.utils.data import Dataset,DataLoader\n",
    "import regex as re\n",
    "from googletrans import Translator\n",
    "from transformers import AutoModelForSeq2SeqLM, AutoTokenizer"
   ]
  },
  {
   "cell_type": "markdown",
   "metadata": {},
   "source": [
    "# Translate all phrases"
   ]
  },
  {
   "cell_type": "markdown",
   "metadata": {},
   "source": [
    "## Translate with Google Translate"
   ]
  },
  {
   "cell_type": "code",
   "execution_count": 42,
   "metadata": {},
   "outputs": [],
   "source": [
    "#tests:\n",
    "#splits = {'uk': 'data/uk-00000-of-00001-86a756a5ad8b3340.parquet', 'hi': 'data/hi-00000-of-00001-35f39f96bd50e4e4.parquet', 'zh': 'data/zh-00000-of-00001-21350981874ac4f4.parquet', 'ar': 'data/ar-00000-of-00001-2338057ce0eeaf0d.parquet', 'de': 'data/de-00000-of-00001-00ccec8d5e81dbf1.parquet', 'en': 'data/en-00000-of-00001-c54cbb5edf21dd23.parquet', 'ru': 'data/ru-00000-of-00001-6818d57069197d03.parquet', 'am': 'data/am-00000-of-00001-656e19a6f1cc2383.parquet', 'es': 'data/es-00000-of-00001-723005ac428f80c9.parquet'}\n",
    "#df = pd.read_parquet(\"hf://datasets/textdetox/multilingual_paradetox_test/\" + splits[\"es\"])\n",
    "splits = {'eng_Latn': 'data/en-00000-of-00001.parquet', \n",
    "          'rus_Cyrl': 'data/ru-00000-of-00001.parquet', \n",
    "          'ukr_Cyrl': 'data/uk-00000-of-00001.parquet', \n",
    "          'deu_Latn': 'data/de-00000-of-00001.parquet', \n",
    "          'spa_Latn': 'data/es-00000-of-00001.parquet', \n",
    "          'amh_Ethi': 'data/am-00000-of-00001.parquet', \n",
    "          'zho_Hans': 'data/zh-00000-of-00001.parquet', \n",
    "          'arb_Arab': 'data/ar-00000-of-00001.parquet', \n",
    "          'hin_Deva': 'data/hi-00000-of-00001.parquet'}\n",
    "translator = Translator()\n",
    "all_data=[]\n",
    "for key, value in splits.items():\n",
    "    x=0\n",
    "    final_dataframe = pd.DataFrame(columns=['toxic_sentence_not_translated','neutral_sentence_not_translated','toxic_sentence_translated','neutral_sentence_translated','original_language'])\n",
    "    df = pd.read_parquet(\"hf://datasets/textdetox/multilingual_paradetox/\" + value)\n",
    "    array = np.array(df)\n",
    "    for instance in array:\n",
    "        input=[]\n",
    "        input.append(instance[0])\n",
    "        input.append(instance[1])\n",
    "        toxic_translated = translator.translate(instance[0]).text\n",
    "        input.append(toxic_translated)\n",
    "        non_toxic_translated = translator.translate(instance[1]).text\n",
    "        input.append(non_toxic_translated)\n",
    "        input.append(key)\n",
    "        final_dataframe.loc[x]=input\n",
    "        x+=1\n",
    "    all_data.append(final_dataframe)\n",
    "big_dataframe=pd.concat(all_data)\n",
    "big_dataframe.to_csv('Dataset_tab.csv',sep='\\t',index=False)\n",
    "\n"
   ]
  },
  {
   "cell_type": "markdown",
   "metadata": {},
   "source": [
    "## Translate with NLLB-200-distilled-600M"
   ]
  },
  {
   "cell_type": "code",
   "execution_count": 112,
   "metadata": {},
   "outputs": [],
   "source": [
    "#con emojis\n",
    "class Translator_emojis:\n",
    "    def __init__(self):\n",
    "        # Use the original NLLB tokenizer\n",
    "        self.tokenizer = AutoTokenizer.from_pretrained(\"facebook/nllb-200-distilled-600M\")\n",
    "        self.model = AutoModelForSeq2SeqLM.from_pretrained(\"facebook/nllb-200-distilled-600M\")\n",
    "\n",
    "    def translate(self, src_lan, tgt_lan, text):\n",
    "        # Split text into words and emojis to handle emojis separately\n",
    "        words = re.split(r'(\\p{So}|\\p{Cn})', text, flags=re.UNICODE)\n",
    "        translated_text = []\n",
    "        for word in words:\n",
    "            if word and not re.search(r'[\\U0001F600-\\U0001F64F\\U0001F300-\\U0001F5FF\\U0001F680-\\U0001F6FF]', word):\n",
    "                # Only translate text segments, skip emojis\n",
    "                text_with_lang_code = f\"{src_lan} {word}\"\n",
    "                inputs = self.tokenizer(text_with_lang_code, return_tensors=\"pt\")\n",
    "                translated_tokens = self.model.generate(\n",
    "                    input_ids=inputs[\"input_ids\"],\n",
    "                    attention_mask=inputs[\"attention_mask\"],\n",
    "                    forced_bos_token_id=self.tokenizer.convert_tokens_to_ids(tgt_lan)\n",
    "                )\n",
    "                translated_word = self.tokenizer.decode(translated_tokens[0], skip_special_tokens=True)\n",
    "            else:\n",
    "                # If it's an emoji, keep it as is\n",
    "                print(u'word')\n",
    "                translated_text += u'\\U0001f604'\n",
    "\n",
    "            # Append translated word or emoji to result\n",
    "            translated_text.append(translated_word)\n",
    "        \n",
    "        return translated_text\n",
    "    \n",
    "#Omitiendo emojis\n",
    "class Translator():\n",
    "    def __init__(self):\n",
    "        self.tokenizer=AutoTokenizer.from_pretrained(\"facebook/nllb-200-distilled-600M\")\n",
    "        self.model=AutoModelForSeq2SeqLM.from_pretrained(\"facebook/nllb-200-distilled-600M\")\n",
    "    def translate(self,src_lan,tgt_lan,text):\n",
    "        text=f\"{src_lan} {text}\"\n",
    "        inputs = self.tokenizer(text, return_tensors=\"pt\")\n",
    "        translated_tokens = self.model.generate(** inputs, forced_bos_token_id=self.tokenizer.convert_tokens_to_ids(tgt_lan))\n",
    "        translated=self.tokenizer.batch_decode(translated_tokens, skip_special_tokens=True)[0]\n",
    "        return translated"
   ]
  },
  {
   "cell_type": "code",
   "execution_count": 114,
   "metadata": {},
   "outputs": [
    {
     "name": "stdout",
     "output_type": "stream",
     "text": [
      "Example text with emoji  and symbol ♡.\n",
      "['Example text with emoji ', '', 'and symbol', '♪ ♪ ♪', \"- I 'm not .\"]\n"
     ]
    }
   ],
   "source": [
    "translator=Translator()\n",
    "translator_emojis = Translator_emojis()\n",
    "print(translator.translate(src_lan='spa_Latn',tgt_lan='eng_Latn',text=\"Example text with emoji 🤯 and symbol ♡.\"))\n",
    "print(translator_emojis.translate(src_lan='spa_Latn',tgt_lan='eng_Latn',text=\"Example text with emoji 🤯 and symbol ♡.\"))"
   ]
  },
  {
   "cell_type": "markdown",
   "metadata": {},
   "source": [
    "# Loading Data"
   ]
  },
  {
   "cell_type": "code",
   "execution_count": null,
   "metadata": {},
   "outputs": [],
   "source": [
    "all_languages = pd.read_cs"
   ]
  },
  {
   "cell_type": "code",
   "execution_count": null,
   "metadata": {},
   "outputs": [],
   "source": [
    "class Detox():\n",
    "    def __init__(self):\n",
    "        self.base_model_name='facebook/bart-base'\n",
    "        self.model_name = 's-nlp/bart-base-detox'\n",
    "        self.tokenizer = AutoTokenizer.from_pretrained(self.base_model_name)\n",
    "        self.model = BartForConditionalGeneration.from_pretrained(self.model_name)\n",
    "\n",
    "    def detox(self,input):\n",
    "        input_ids = self.tokenizer.encode(input, return_tensors='pt')\n",
    "        output_ids = self.model.generate(input_ids, max_length=50, num_return_sequences=1)\n",
    "        output_text = self.tokenizer.decode(output_ids[0], skip_special_tokens=True)\n",
    "        return output_text\n",
    "    \n",
    "    def train(self, dataloader):"
   ]
  }
 ],
 "metadata": {
  "kernelspec": {
   "display_name": "NLP",
   "language": "python",
   "name": "python3"
  },
  "language_info": {
   "codemirror_mode": {
    "name": "ipython",
    "version": 3
   },
   "file_extension": ".py",
   "mimetype": "text/x-python",
   "name": "python",
   "nbconvert_exporter": "python",
   "pygments_lexer": "ipython3",
   "version": "3.10.12"
  }
 },
 "nbformat": 4,
 "nbformat_minor": 2
}
